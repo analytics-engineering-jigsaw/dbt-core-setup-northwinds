{
 "cells": [
  {
   "cell_type": "markdown",
   "id": "cdd728f9-4cd1-4e20-869c-2fac952ea992",
   "metadata": {},
   "source": [
    "Now with DBT, we generally do not what to clutter the public schema with models we are working on in development.  So let's use a specified schema for our output data.\n",
    "\n",
    "Do so by navigating to the `~./dbt/profiles.yml` file.  And then change `schema: public` to something like `schema: jk_test`.  Use your own initials (it will feel better).  \n",
    "\n",
    "Now when you write perform dbt run, it will write the output to the specified schema.\n",
    "\n",
    "There's just one problem.  That problem is that dbt will think the source data also comes from that schema, unless otherwise specified.  \n",
    "\n",
    "But our source cities table doesn't come from there -- it comes from our public schema.\n",
    "\n",
    "So in DBT, we can create a source file to specify where this source data comes from.  In the `models/staging` folder create a `sources.yml` file, and add the following:\n",
    "\n",
    "```yaml\n",
    "version: 2\n",
    "sources:\n",
    "  - name: postgres\n",
    "    database: northwinds\n",
    "    schema: public\n",
    "    tables:\n",
    "      - name: categories\n",
    "```"
   ]
  },
  {
   "cell_type": "markdown",
   "id": "5b591972-29f4-4c01-80f0-09bb5877d8e3",
   "metadata": {},
   "source": [
    "Now with DBT, we generally do not what to clutter the public schema with models we are working on in development.  So let's use a specified schema for our output data.\n",
    "\n",
    "Do so by navigating to the `~./dbt/profiles.yml` file.  And then change `schema: public` to something like `schema: jk_test`.  Use your own initials (it will feel better).  \n",
    "\n",
    "Now when you write perform dbt run, it will write the output to the specified schema.\n",
    "\n",
    "There's just one problem.  That problem is that dbt will think the source data also comes from that schema, unless otherwise specified.  \n",
    "\n",
    "But our source cities table doesn't come from there -- it comes from our public schema.\n",
    "\n",
    "So in DBT, we can create a source file to specify where this source data comes from.  In the `models/staging` folder create a `sources.yml` file, and add the following:\n",
    "\n",
    "```yaml\n",
    "version: 2\n",
    "sources:\n",
    "  - name: postgres\n",
    "    database: northwinds\n",
    "    schema: public\n",
    "    tables:\n",
    "      - name: categories\n",
    "```"
   ]
  },
  {
   "cell_type": "code",
   "execution_count": null,
   "id": "380ede9a-cfff-4431-b7ce-5e4c848ee1f2",
   "metadata": {},
   "outputs": [],
   "source": []
  }
 ],
 "metadata": {
  "kernelspec": {
   "display_name": "Python 3 (ipykernel)",
   "language": "python",
   "name": "python3"
  },
  "language_info": {
   "codemirror_mode": {
    "name": "ipython",
    "version": 3
   },
   "file_extension": ".py",
   "mimetype": "text/x-python",
   "name": "python",
   "nbconvert_exporter": "python",
   "pygments_lexer": "ipython3",
   "version": "3.10.13"
  }
 },
 "nbformat": 4,
 "nbformat_minor": 5
}
